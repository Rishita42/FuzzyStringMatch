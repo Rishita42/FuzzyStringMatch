{
  "nbformat": 4,
  "nbformat_minor": 0,
  "metadata": {
    "colab": {
      "provenance": []
    },
    "kernelspec": {
      "name": "python3",
      "display_name": "Python 3"
    },
    "language_info": {
      "name": "python"
    }
  },
  "cells": [
    {
      "cell_type": "code",
      "execution_count": 1,
      "metadata": {
        "id": "MQ24OnFbpORh"
      },
      "outputs": [],
      "source": [
        "import numpy as np\n",
        "def levenshtein_ratio_and_distance(s, t, ratio_calc = False):\n",
        "    \"\"\" levenshtein_ratio_and_distance:\n",
        "        Calculates levenshtein distance between two strings.\n",
        "        If ratio_calc = True, the function computes the\n",
        "        levenshtein distance ratio of similarity between two strings\n",
        "        For all i and j, distance[i,j] will contain the Levenshtein\n",
        "        distance between the first i characters of s and the\n",
        "        first j characters of t\n",
        "    \"\"\"\n",
        "    # Initialize matrix of zeros\n",
        "    rows = len(s)+1\n",
        "    cols = len(t)+1\n",
        "    distance = np.zeros((rows,cols),dtype = int)\n",
        "\n",
        "    # Populate matrix of zeros with the indeces of each character of both strings\n",
        "    for i in range(1, rows):\n",
        "        for k in range(1,cols):\n",
        "            distance[i][0] = i\n",
        "            distance[0][k] = k\n",
        "\n",
        "    # Iterate over the matrix to compute the cost of deletions,insertions and/or substitutions    \n",
        "    for col in range(1, cols):\n",
        "        for row in range(1, rows):\n",
        "            if s[row-1] == t[col-1]:\n",
        "                cost = 0 # If the characters are the same in the two strings in a given position [i,j] then the cost is 0\n",
        "            else:\n",
        "                # In order to align the results with those of the Python Levenshtein package, if we choose to calculate the ratio\n",
        "                # the cost of a substitution is 2. If we calculate just distance, then the cost of a substitution is 1.\n",
        "                if ratio_calc == True:\n",
        "                    cost = 2\n",
        "                else:\n",
        "                    cost = 1\n",
        "            distance[row][col] = min(distance[row-1][col] + 1,      # Cost of deletions\n",
        "                                 distance[row][col-1] + 1,          # Cost of insertions\n",
        "                                 distance[row-1][col-1] + cost)     # Cost of substitutions\n",
        "    if ratio_calc == True:\n",
        "        # Computation of the Levenshtein Distance Ratio\n",
        "        Ratio = ((len(s)+len(t)) - distance[row][col]) / (len(s)+len(t))\n",
        "        return Ratio\n",
        "    else:\n",
        "        # print(distance) # Uncomment if you want to see the matrix showing how the algorithm computes the cost of deletions,\n",
        "        # insertions and/or substitutions\n",
        "        # This is the minimum number of edits needed to convert string a to string b\n",
        "        return \"The strings are {} edits away\".format(distance[row][col])"
      ]
    },
    {
      "cell_type": "code",
      "source": [
        "str1 = \"Snap Inc.\"\n",
        "str2 = \"snap Inc\"\n",
        "Distance = levenshtein_ratio_and_distance(str1,str2)\n",
        "print(Distance)\n",
        "Ratio = levenshtein_ratio_and_distance(str1,str2,ratio_calc = True)\n",
        "print(Ratio)"
      ],
      "metadata": {
        "colab": {
          "base_uri": "https://localhost:8080/"
        },
        "id": "3jHWbGdcpPHt",
        "outputId": "17d0563e-1201-4e98-ecf2-abf4a4b412f7"
      },
      "execution_count": 2,
      "outputs": [
        {
          "output_type": "stream",
          "name": "stdout",
          "text": [
            "The strings are 2 edits away\n",
            "0.8235294117647058\n"
          ]
        }
      ]
    },
    {
      "cell_type": "code",
      "source": [
        "str1 = \"Snap Inc.\"\n",
        "str2 = \"snap Inc\"\n",
        "Distance = levenshtein_ratio_and_distance(str1.lower(),str2.lower())\n",
        "print(Distance)\n",
        "Ratio = levenshtein_ratio_and_distance(str1,str2,ratio_calc = True)\n",
        "print(Ratio)"
      ],
      "metadata": {
        "colab": {
          "base_uri": "https://localhost:8080/"
        },
        "id": "DQVPg2XlprPN",
        "outputId": "e7230c98-98df-4e3e-e9c5-99476e2a1642"
      },
      "execution_count": 3,
      "outputs": [
        {
          "output_type": "stream",
          "name": "stdout",
          "text": [
            "The strings are 1 edits away\n",
            "0.8235294117647058\n"
          ]
        }
      ]
    },
    {
      "cell_type": "code",
      "source": [
        "!pip install Levenshtein"
      ],
      "metadata": {
        "colab": {
          "base_uri": "https://localhost:8080/"
        },
        "id": "tU8LesxlqrAv",
        "outputId": "a93e6a98-154c-4fbc-ed30-3197edc0efb1"
      },
      "execution_count": 6,
      "outputs": [
        {
          "output_type": "stream",
          "name": "stdout",
          "text": [
            "Looking in indexes: https://pypi.org/simple, https://us-python.pkg.dev/colab-wheels/public/simple/\n",
            "Collecting Levenshtein\n",
            "  Downloading Levenshtein-0.20.9-cp39-cp39-manylinux_2_17_x86_64.manylinux2014_x86_64.whl (175 kB)\n",
            "\u001b[2K     \u001b[90m━━━━━━━━━━━━━━━━━━━━━━━━━━━━━━━━━━━━━━━\u001b[0m \u001b[32m175.5/175.5 KB\u001b[0m \u001b[31m9.9 MB/s\u001b[0m eta \u001b[36m0:00:00\u001b[0m\n",
            "\u001b[?25hCollecting rapidfuzz<3.0.0,>=2.3.0\n",
            "  Downloading rapidfuzz-2.15.0-cp39-cp39-manylinux_2_17_x86_64.manylinux2014_x86_64.whl (2.2 MB)\n",
            "\u001b[2K     \u001b[90m━━━━━━━━━━━━━━━━━━━━━━━━━━━━━━━━━━━━━━━━\u001b[0m \u001b[32m2.2/2.2 MB\u001b[0m \u001b[31m58.5 MB/s\u001b[0m eta \u001b[36m0:00:00\u001b[0m\n",
            "\u001b[?25hInstalling collected packages: rapidfuzz, Levenshtein\n",
            "Successfully installed Levenshtein-0.20.9 rapidfuzz-2.15.0\n"
          ]
        }
      ]
    },
    {
      "cell_type": "code",
      "source": [
        "import Levenshtein as lev\n",
        "str1 = \"Apple Inc.\"\n",
        "str2 = \"apple Inc\"\n",
        "Distance = lev.distance(str1.lower(),str2.lower()),\n",
        "print(Distance)\n",
        "Ratio = lev.ratio(str1.lower(),str2.lower())\n",
        "print(Ratio)"
      ],
      "metadata": {
        "colab": {
          "base_uri": "https://localhost:8080/"
        },
        "id": "1jnubLYjpw0M",
        "outputId": "86cefee7-4c14-4a77-8c71-e434c8858a26"
      },
      "execution_count": 7,
      "outputs": [
        {
          "output_type": "stream",
          "name": "stdout",
          "text": [
            "(1,)\n",
            "0.9473684210526316\n"
          ]
        }
      ]
    },
    {
      "cell_type": "code",
      "source": [
        "!pip install fuzzywuzzy"
      ],
      "metadata": {
        "colab": {
          "base_uri": "https://localhost:8080/"
        },
        "id": "8VVeGJs2q1sd",
        "outputId": "b8469035-8d87-4e43-9011-b659866ff0d4"
      },
      "execution_count": 8,
      "outputs": [
        {
          "output_type": "stream",
          "name": "stdout",
          "text": [
            "Looking in indexes: https://pypi.org/simple, https://us-python.pkg.dev/colab-wheels/public/simple/\n",
            "Collecting fuzzywuzzy\n",
            "  Downloading fuzzywuzzy-0.18.0-py2.py3-none-any.whl (18 kB)\n",
            "Installing collected packages: fuzzywuzzy\n",
            "Successfully installed fuzzywuzzy-0.18.0\n"
          ]
        }
      ]
    },
    {
      "cell_type": "code",
      "source": [
        "from fuzzywuzzy import fuzz\n",
        "str1 = \"Apple Inc.\"\n",
        "str2 = \"apple Inc\"\n",
        "Ratio = fuzz.ratio(str1.lower(),str2.lower())\n",
        "print(Ratio)"
      ],
      "metadata": {
        "colab": {
          "base_uri": "https://localhost:8080/"
        },
        "id": "Z5MnkF44p22c",
        "outputId": "44b1409a-2afe-42a4-fa31-91d8466d09b6"
      },
      "execution_count": 9,
      "outputs": [
        {
          "output_type": "stream",
          "name": "stdout",
          "text": [
            "95\n"
          ]
        }
      ]
    },
    {
      "cell_type": "code",
      "source": [
        "str1 = \"Seattle Park Riders\"\n",
        "str2 = \"Riders\"\n",
        "Ratio = fuzz.ratio(str1.lower(),str2.lower())\n",
        "Partial_Ratio = fuzz.partial_ratio(str1.lower(),str2.lower())\n",
        "print(Ratio)\n",
        "print(Partial_Ratio)"
      ],
      "metadata": {
        "colab": {
          "base_uri": "https://localhost:8080/"
        },
        "id": "gK7YHotjqFz7",
        "outputId": "6f7576e7-d2db-43cc-c80e-1b8076ff8754"
      },
      "execution_count": 10,
      "outputs": [
        {
          "output_type": "stream",
          "name": "stdout",
          "text": [
            "48\n",
            "100\n"
          ]
        }
      ]
    },
    {
      "cell_type": "code",
      "source": [
        "str1 = \"India vs New Zealand World Cup\"\n",
        "str2 = \"New Zealand World Cup vs India\"\n",
        "Ratio = fuzz.ratio(str1.lower(),str2.lower())\n",
        "Partial_Ratio = fuzz.partial_ratio(str1.lower(),str2.lower())\n",
        "Token_Sort_Ratio = fuzz.token_sort_ratio(str1,str2)\n",
        "print(Ratio)\n",
        "print(Partial_Ratio)\n",
        "print(Token_Sort_Ratio)"
      ],
      "metadata": {
        "colab": {
          "base_uri": "https://localhost:8080/"
        },
        "id": "XfEhSSq5q_NH",
        "outputId": "026aa1cd-36db-4977-a05c-b357e49e9c6e"
      },
      "execution_count": 11,
      "outputs": [
        {
          "output_type": "stream",
          "name": "stdout",
          "text": [
            "70\n",
            "70\n",
            "100\n"
          ]
        }
      ]
    },
    {
      "cell_type": "code",
      "source": [
        "str1 = \"The supreme court case of Facebook vs The United States\"\n",
        "str2 = \"Facebook vs United States\"\n",
        "Ratio = fuzz.ratio(str1.lower(),str2.lower())\n",
        "Partial_Ratio = fuzz.partial_ratio(str1.lower(),str2.lower())\n",
        "Token_Sort_Ratio = fuzz.token_sort_ratio(str1,str2)\n",
        "Token_Set_Ratio = fuzz.token_set_ratio(str1,str2)\n",
        "print(Ratio)\n",
        "print(Partial_Ratio)\n",
        "print(Token_Sort_Ratio)\n",
        "print(Token_Set_Ratio)"
      ],
      "metadata": {
        "colab": {
          "base_uri": "https://localhost:8080/"
        },
        "id": "Z1v4hXGNrFzc",
        "outputId": "a5dc84d0-13f7-4837-8d61-69c4f4321a2e"
      },
      "execution_count": 12,
      "outputs": [
        {
          "output_type": "stream",
          "name": "stdout",
          "text": [
            "62\n",
            "84\n",
            "62\n",
            "100\n"
          ]
        }
      ]
    },
    {
      "cell_type": "code",
      "source": [
        "from fuzzywuzzy import process\n",
        "str2Match = \"Apple inc\"\n",
        "strOptions = [\"apple Inc.\",\"Apple park\",\"Apple incorporated\",\"iphone\"]\n",
        "Ratios = process.extract(str2Match,strOptions)\n",
        "print(Ratios)\n",
        "# You can also select the string with the highest matching percentage\n",
        "highest = process.extractOne(str2Match,strOptions)\n",
        "print(highest)"
      ],
      "metadata": {
        "colab": {
          "base_uri": "https://localhost:8080/"
        },
        "id": "dwJmA_KIrNoN",
        "outputId": "cb3b0872-ad12-4630-c5c5-1ff6a2e83856"
      },
      "execution_count": 13,
      "outputs": [
        {
          "output_type": "stream",
          "name": "stdout",
          "text": [
            "[('apple Inc.', 100), ('Apple incorporated', 90), ('Apple park', 67), ('iphone', 30)]\n",
            "('apple Inc.', 100)\n"
          ]
        }
      ]
    },
    {
      "cell_type": "markdown",
      "source": [
        "Finally, the fuzzywuzzy package has a module called process that allows you to calculate the string with the highest similarity out of a vector of strings.\n"
      ],
      "metadata": {
        "id": "QxzNJmfAror9"
      }
    }
  ]
}